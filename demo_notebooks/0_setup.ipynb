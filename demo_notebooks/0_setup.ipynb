{
 "cells": [
  {
   "cell_type": "markdown",
   "metadata": {},
   "source": [
    "## **Prerequisites**\n",
    "\n",
    "### Step 1: Setup Azure Machine Learning Workspace via the portal. \n",
    "Note the workspace nane, resource group id, and subscription id\n",
    "\n",
    "### Step 2: Create and populate a .env file in the home directory of this repository. \n",
    "Use this [.sample.env file](../.sample.env) as a guide. \n",
    "\n",
    "### Step 3: Run the following python cell:"
   ]
  },
  {
   "cell_type": "code",
   "execution_count": 12,
   "metadata": {},
   "outputs": [
    {
     "name": "stdout",
     "output_type": "stream",
     "text": [
      "zs-aml\n"
     ]
    }
   ],
   "source": [
    "# Load environment variables from .env file\n",
    "import os\n",
    "from dotenv import load_dotenv, find_dotenv\n",
    "\n",
    "load_dotenv(find_dotenv())\n",
    "print(os.getenv(\"WORKSPACE_NAME\"))"
   ]
  },
  {
   "cell_type": "markdown",
   "metadata": {},
   "source": [
    "## **Setup Local Dev Environment**\n",
    "\n",
    "### Step 1: Via the terminal run the following commands\n",
    "\n",
    "```bash\n",
    "conda env create --name llm_eval --file=../environment/conda.yaml\n",
    "conda activate llm_eval\n",
    "```"
   ]
  },
  {
   "cell_type": "markdown",
   "metadata": {},
   "source": [
    "### Step 2: Download and install [PromptFlow for VS code](https://marketplace.visualstudio.com/items?itemName=prompt-flow.prompt-flow)"
   ]
  },
  {
   "cell_type": "markdown",
   "metadata": {},
   "source": [
    "## **Create Azure Open AI Connection**\n",
    "This connection will be used to access chat, completion and embedding models for both sample chat flows and flow evaluations"
   ]
  },
  {
   "cell_type": "markdown",
   "metadata": {},
   "source": [
    "### Step 1: Create Open AI Service via Azure Portal\n",
    "- Create a Deployment with the model of your chosing\n",
    "- Ensure your .env file is populated with necessary keys and is loaded into the environment (re-run if necessary)"
   ]
  },
  {
   "cell_type": "markdown",
   "metadata": {},
   "source": [
    "### Step 2: Create AOAI connection to be used in PromptFlow"
   ]
  },
  {
   "cell_type": "code",
   "execution_count": 14,
   "metadata": {},
   "outputs": [
    {
     "name": "stdout",
     "output_type": "stream",
     "text": [
      "{\n",
      "    \"name\": \"aoai-connection\",\n",
      "    \"module\": \"promptflow.connections\",\n",
      "    \"created_date\": \"2023-12-11T13:24:51.137301\",\n",
      "    \"last_modified_date\": \"2023-12-11T13:25:22.447317\",\n",
      "    \"type\": \"azure_open_ai\",\n",
      "    \"api_key\": \"******\",\n",
      "    \"api_base\": \"https://zs-aoai.openai.azure.com/\",\n",
      "    \"api_type\": \"azure\",\n",
      "    \"api_version\": \"2023-07-01-preview\"\n",
      "}\n",
      "\n"
     ]
    }
   ],
   "source": [
    "import subprocess\n",
    "\n",
    "api_key = os.getenv(\"OPENAI_API_KEY\")\n",
    "api_base = os.getenv(\"OPENAI_API_BASE\")\n",
    "name = \"aoai-connection\"\n",
    "\n",
    "command = f\"pf connection create --file ../src/promptflow/connections/connect_aoai.yaml --set api_key={api_key} api_base={api_base} --name {name}\"\n",
    "result = subprocess.run(command,\n",
    "                        shell=True,\n",
    "                        check=True,\n",
    "                        text=True,\n",
    "                        capture_output=True\n",
    "                        )\n",
    "\n",
    "print(result.stdout)"
   ]
  },
  {
   "cell_type": "code",
   "execution_count": null,
   "metadata": {},
   "outputs": [],
   "source": []
  }
 ],
 "metadata": {
  "kernelspec": {
   "display_name": "Python 3",
   "language": "python",
   "name": "python3"
  },
  "language_info": {
   "codemirror_mode": {
    "name": "ipython",
    "version": 3
   },
   "file_extension": ".py",
   "mimetype": "text/x-python",
   "name": "python",
   "nbconvert_exporter": "python",
   "pygments_lexer": "ipython3",
   "version": "3.8.18"
  }
 },
 "nbformat": 4,
 "nbformat_minor": 2
}
