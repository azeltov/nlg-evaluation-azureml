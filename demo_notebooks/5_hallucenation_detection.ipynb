{
 "cells": [
  {
   "cell_type": "markdown",
   "metadata": {},
   "source": [
    "# **NLG Hallucenation Detection**\n",
    "\n",
    "### Motivation\n",
    "\n",
    "\n",
    "### Overview\n",
    "\n",
    "\n",
    " **_Go Deeper_**  \n",
    "\n",
    "  \n",
    "**_Prerequisites_**  \n",
    "  \n",
    "- Ensure that your environment is setup by completing the steps outlines in [0_setup.ipynb](./0_setup.ipynb)"
   ]
  },
  {
   "cell_type": "code",
   "execution_count": null,
   "metadata": {},
   "outputs": [],
   "source": [
    "# TODO"
   ]
  }
 ],
 "metadata": {
  "language_info": {
   "name": "python"
  }
 },
 "nbformat": 4,
 "nbformat_minor": 2
}
