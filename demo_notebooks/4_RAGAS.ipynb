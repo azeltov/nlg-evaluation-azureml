{
 "cells": [
  {
   "cell_type": "markdown",
   "metadata": {},
   "source": [
    "# **Evaluating Natural Language Generation w/ RAGAS**\n",
    "\n",
    "### Overview\n",
    "In this notebook you will explore the RAGAS (by ExplodingGradients) open source NLG evaluation framework. Ragas aims to create an open standard, providing developers with the tools and techniques to leverage continual learning in their RAG applications. using RAGAS for NLG evaluation you will be able to evaluate each component of your RAG pipeline in isolation. RAGAS primarily uses 4 core metrics:\n",
    "1. Faithfulness: How factually accurate a generated answer is\n",
    "2. Answer Relevence: How relevent an answer is to the question\n",
    "3. Context Precision: The signal to noise ration fo the retreived context\n",
    "4. Context Recall: Is all required relevant information retreived to answer the question (_requires ground truth_)\n",
    "\n",
    "_Notes_  \n",
    "- For this notebook, we will use 30 smaples from the [FIQA](https://sites.google.com/view/fiqa/) public dataset from ExplodingGradients\n",
    "  - _Schema_ = question,ground_truths,answer,contexts\n",
    "- For this notebook we will use the previously established Azure OpenAI connection, however a regular OpenAI connection can also be used\n",
    "\n",
    " **_Go Deeper_**  \n",
    "[RAGAS Documentation](https://docs.ragas.io/en/stable/index.html)  \n",
    "[RAGAS Project GitHub](https://github.com/explodinggradients/ragas)\n",
    "  \n",
    "**_Prerequisites_**  \n",
    "  \n",
    "Ensure that your environment is setup by completing the steps outlines in [0_setup.ipynb](./0_setup.ipynb)"
   ]
  },
  {
   "cell_type": "markdown",
   "metadata": {},
   "source": []
  },
  {
   "cell_type": "code",
   "execution_count": null,
   "metadata": {},
   "outputs": [],
   "source": [
    "# Import Libraries\n",
    "import os\n",
    "import pandas as pd\n",
    "from datasets import load_dataset\n",
    "from azure.identity import DefaultAzureCredential\n",
    "from azure.ai.ml import MLClient\n",
    "from dotenv import load_dotenv, find_dotenv\n",
    "from langchain_openai.chat_models import AzureChatOpenAI\n",
    "from langchain_openai.embeddings import AzureOpenAIEmbeddings\n",
    "from ragas import evaluate\n",
    "from ragas.metrics import (\n",
    "    context_precision,\n",
    "    answer_relevancy,\n",
    "    faithfulness,\n",
    "    context_recall,\n",
    ")"
   ]
  },
  {
   "cell_type": "code",
   "execution_count": null,
   "metadata": {},
   "outputs": [],
   "source": [
    "# Setup environment\n",
    "load_dotenv(find_dotenv(), override=True)\n",
    "print(os.getenv(\"WORKSPACE_NAME\"))\n",
    "\n",
    "# Get a handle to the workspace\n",
    "ml_client = MLClient(\n",
    "    credential=DefaultAzureCredential(),\n",
    "    subscription_id = os.environ.get('SUBSCRIPTION_ID'),\n",
    "    resource_group_name = os.environ.get('RESOURCE_GROUP_NAME'),\n",
    "    workspace_name = os.environ.get('WORKSPACE_NAME'),\n",
    ")"
   ]
  },
  {
   "cell_type": "code",
   "execution_count": null,
   "metadata": {},
   "outputs": [],
   "source": [
    "# Set config variables\n",
    "metrics = [\n",
    "    faithfulness,\n",
    "    answer_relevancy,\n",
    "    context_recall,\n",
    "    context_precision,\n",
    "]\n",
    "\n",
    "azure_configs = {\n",
    "    \"azure_endpoint\": os.environ.get(\"AZURE_OPENAI_ENDPOINT\"),\n",
    "    \"aoai_key\": os.environ.get(\"AZURE_OPENAI_KEY\"),\n",
    "    \"model_deployment\": \"aoai-gpt4\",\n",
    "    \"model_name\": \"gpt-4\",\n",
    "    \"embedding_deployment\": \"aoai-ada\",\n",
    "    \"embedding_name\": \"text-embedding-ada-002\"\n",
    "}\n",
    "\n",
    "print(azure_configs)"
   ]
  },
  {
   "cell_type": "code",
   "execution_count": null,
   "metadata": {},
   "outputs": [],
   "source": [
    "# Load dataset\n",
    "fiqa = load_dataset(\"explodinggradients/fiqa\", \"ragas_eval\")\n",
    "display(fiqa)"
   ]
  },
  {
   "cell_type": "code",
   "execution_count": null,
   "metadata": {},
   "outputs": [],
   "source": [
    "# Create model instances to be used for evaluation\n",
    "\n",
    "azure_model = AzureChatOpenAI(\n",
    "    openai_api_version=\"2023-07-01-preview\",\n",
    "    azure_endpoint=azure_configs[\"azure_endpoint\"],\n",
    "    azure_deployment=azure_configs[\"model_deployment\"],\n",
    "    model=azure_configs[\"model_name\"],\n",
    "    openai_api_type=\"azure\",\n",
    "    openai_api_key=azure_configs[\"aoai_key\"],\n",
    "    validate_base_url=False,\n",
    ")\n",
    "\n",
    "# init the embeddings for answer_relevancy, answer_correctness and answer_similarity\n",
    "azure_embeddings = AzureOpenAIEmbeddings(\n",
    "    openai_api_version=\"2023-07-01-preview\",\n",
    "    azure_endpoint=azure_configs[\"azure_endpoint\"],\n",
    "    azure_deployment=azure_configs[\"embedding_deployment\"],\n",
    "    model=azure_configs[\"embedding_name\"],\n",
    "    openai_api_type=\"azure\",\n",
    "    openai_api_key=azure_configs[\"aoai_key\"],\n",
    ")"
   ]
  },
  {
   "cell_type": "code",
   "execution_count": null,
   "metadata": {},
   "outputs": [],
   "source": [
    "# Evaluate - this may take several minutes\n",
    "result = evaluate(\n",
    "    fiqa[\"baseline\"],\n",
    "    metrics=metrics,\n",
    "    llm=azure_model,\n",
    "    embeddings=azure_embeddings,\n",
    "    raise_exceptions=False\n",
    ")"
   ]
  },
  {
   "cell_type": "code",
   "execution_count": null,
   "metadata": {},
   "outputs": [],
   "source": [
    "# View Results\n",
    "display(result.to_pandas())"
   ]
  },
  {
   "cell_type": "markdown",
   "metadata": {},
   "source": [
    "Note known issues with the RAGAS framework that may materialize during this notebook:\n",
    "- [#555 Index Errors](https://github.com/explodinggradients/ragas/issues/555)\n",
    "- [#395 Dictionary Format Outpus](https://github.com/explodinggradients/ragas/issues/395)\n",
    "- [#536 OpenAI Integration Broken](https://github.com/explodinggradients/ragas/issues/536)\n",
    "- [#449 Azure Content Filter Triggered](https://github.com/explodinggradients/ragas/issues/449)"
   ]
  },
  {
   "cell_type": "markdown",
   "metadata": {},
   "source": []
  }
 ],
 "metadata": {
  "kernelspec": {
   "display_name": "nlg_eval",
   "language": "python",
   "name": "python3"
  },
  "language_info": {
   "codemirror_mode": {
    "name": "ipython",
    "version": 3
   },
   "file_extension": ".py",
   "mimetype": "text/x-python",
   "name": "python",
   "nbconvert_exporter": "python",
   "pygments_lexer": "ipython3",
   "version": "3.8.18"
  }
 },
 "nbformat": 4,
 "nbformat_minor": 2
}
