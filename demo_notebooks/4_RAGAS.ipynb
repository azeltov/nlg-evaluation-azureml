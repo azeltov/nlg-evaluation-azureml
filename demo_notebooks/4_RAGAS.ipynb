{
 "cells": [
  {
   "cell_type": "markdown",
   "metadata": {},
   "source": [
    "### **Coming soon...**"
   ]
  },
  {
   "cell_type": "markdown",
   "metadata": {},
   "source": [
    "# **Evaluating Natural Language Generation w/ RAGAS**\n",
    "\n",
    "### Overview\n",
    "In this notebook you will explore the RAGAS open source NLG evaluation framework. Ragas aims to create an open standard, providing developers with the tools and techniques to leverage continual learning in their RAG applications. With Ragas, you would be able to...\n",
    "\n",
    "1. Synthetically generate a diverse test dataset that you can use to evaluate your app.\n",
    "2. Use LLM-assisted evaluation metrics designed to help you objectively measure the performance of your application.\n",
    "3. Monitor the quality of your apps in production using smaller, cheaper models that can give actionable insights. For example, the number of hallucinations in the generated answer.\n",
    "4. Use these insights to iterate and improve your application.\n",
    "\n",
    " **_Go Deeper_**  \n",
    "[RAGAS Documentation](https://docs.ragas.io/en/stable/index.html)  \n",
    "  \n",
    "**_Prerequisites_**  \n",
    "  \n",
    "Ensure that your environment is setup by completing the steps outlines in [0_setup.ipynb](./0_setup.ipynb)"
   ]
  },
  {
   "cell_type": "markdown",
   "metadata": {},
   "source": []
  }
 ],
 "metadata": {
  "language_info": {
   "name": "python"
  }
 },
 "nbformat": 4,
 "nbformat_minor": 2
}
